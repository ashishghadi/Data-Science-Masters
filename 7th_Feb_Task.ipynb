{
 "cells": [
  {
   "cell_type": "markdown",
   "id": "0cce797b-2611-4c16-bb74-2ac500e31b7a",
   "metadata": {},
   "source": [
    "Q1. You are writing code for a company. The requirement of the company is that you create a python\n",
    "function that will check whether the password entered by the user is correct or not. The function should\n",
    "take the password as input and return the string “Valid Password” if the entered password follows the\n",
    "below-given password guidelines else it should return “Invalid Password”.\n",
    "Note: 1. The Password should contain at least two uppercase letters and at least two lowercase letters.\n",
    "2. The Password should contain at least a number and three special characters.\n",
    "3. The length of the password should be 10 characters long."
   ]
  },
  {
   "cell_type": "code",
   "execution_count": 19,
   "id": "431ca61f-c2e2-467f-b0f1-382c79c95ed4",
   "metadata": {},
   "outputs": [
    {
     "name": "stdin",
     "output_type": "stream",
     "text": [
      "Enter Password: AShish$#@7\n"
     ]
    },
    {
     "name": "stdout",
     "output_type": "stream",
     "text": [
      "Valid Password\n"
     ]
    }
   ],
   "source": [
    "import re\n",
    "\n",
    "def check_password(password):\n",
    "    if len(password) != 10 or sum(1 for c in password if c.isupper()) < 2 or sum(1 for c in password if c.islower()) < 2 or not re.search(r'\\d', password) or len(re.findall(r'[!@#$%^&*()_+{}|:\"<>?\\-=\\[\\]\\\\;\\',./]', password)) != 3:\n",
    "        return \"Invalid Password\"\n",
    "    \n",
    "    return \"Valid Password\"\n",
    "\n",
    "password = input(\"Enter Password:\")\n",
    "check_pass = check_password(password)\n",
    "print(check_pass)"
   ]
  },
  {
   "cell_type": "markdown",
   "id": "1924954a-8f31-4090-9931-a039115985ef",
   "metadata": {},
   "source": [
    "Q2. Solve the below-given questions using at least one of the following:\n",
    "1. Lambda function\n",
    "2. Filter function\n",
    "3. Map function\n",
    "4. List Comprehension\n",
    "    Check if the string starts with a particular letter\n",
    "    Check if the string is numeric\n",
    "    Sort a list of tuples having fruit names and their quantity. [(\"mango\",99),(\"orange\",80), (\"grapes\", 1000)]\n",
    "    Find the squares of numbers from 1 to 10\n",
    "    Find the cube root of numbers from 1 to 10\n",
    "    Check if a given number is even\n",
    "    Filter odd numbers from the given list.\n",
    "        [1,2,3,4,5,6,7,8,9,10]\n",
    "    Sort a list of integers into positive and negative integers lists.\n",
    "        [1,2,3,4,5,6,-1,-2,-3,-4,-5,0]"
   ]
  },
  {
   "cell_type": "code",
   "execution_count": 4,
   "id": "9dae9a09-9800-4150-a073-e60f0d61fd95",
   "metadata": {},
   "outputs": [
    {
     "name": "stdout",
     "output_type": "stream",
     "text": [
      "True\n"
     ]
    }
   ],
   "source": [
    "#Check if the string starts with a particular letter\n",
    "input_string = \"Data Science\"\n",
    "startsWithD = lambda x: x.startswith('D')\n",
    "\n",
    "print(startsWithD(input_string))"
   ]
  },
  {
   "cell_type": "code",
   "execution_count": 6,
   "id": "05844554-495c-486f-b428-9483254d7a98",
   "metadata": {},
   "outputs": [
    {
     "name": "stdout",
     "output_type": "stream",
     "text": [
      "False\n"
     ]
    }
   ],
   "source": [
    "#Check if the string is numeric\n",
    "input_string = \"1729Ashish\"\n",
    "check_isnumeric = lambda x: x.isnumeric()\n",
    "\n",
    "print(check_isnumeric(input_string))"
   ]
  },
  {
   "cell_type": "code",
   "execution_count": 7,
   "id": "584b8fd4-7996-4d2e-8281-14bccf22c2d4",
   "metadata": {},
   "outputs": [
    {
     "name": "stdout",
     "output_type": "stream",
     "text": [
      "[('orange', 80), ('mango', 99), ('grapes', 1000)]\n"
     ]
    }
   ],
   "source": [
    "#Sort a list of tuples having fruit names and their quantity. [(\"mango\",99),(\"orange\",80), (\"grapes\", 1000)]\n",
    "fruits = [(\"mango\", 99), (\"orange\", 80), (\"grapes\", 1000)]\n",
    "\n",
    "sorted_fruits = sorted(fruits, key=lambda x: x[1])   #sorting based on quantity\n",
    "#sorted_fruits = sorted(fruits, key=lambda x: x[0])  #sorting based on fruit names\n",
    "print(sorted_fruits)"
   ]
  },
  {
   "cell_type": "code",
   "execution_count": 8,
   "id": "49bcce48-88b4-41e9-9b95-b251072fd299",
   "metadata": {},
   "outputs": [
    {
     "name": "stdout",
     "output_type": "stream",
     "text": [
      "[1, 4, 9, 16, 25, 36, 49, 64, 81, 100]\n"
     ]
    }
   ],
   "source": [
    "#Find the squares of numbers from 1 to 10\n",
    "numbers = range(1,11)\n",
    "result = map(lambda x: x * x, numbers)\n",
    "print(list(result))"
   ]
  },
  {
   "cell_type": "code",
   "execution_count": 9,
   "id": "6913c674-54e8-4541-a961-5df0a9b59497",
   "metadata": {},
   "outputs": [
    {
     "name": "stdout",
     "output_type": "stream",
     "text": [
      "[1.0, 1.2599210498948732, 1.4422495703074083, 1.5874010519681994, 1.7099759466766968, 1.8171205928321397, 1.912931182772389, 2.0, 2.080083823051904, 2.154434690031884]\n"
     ]
    }
   ],
   "source": [
    "#Find the cube root of numbers from 1 to 10\n",
    "numbers = range(1,11)\n",
    "result = map(lambda x: pow(x, 1/3), numbers)\n",
    "print(list(result))"
   ]
  },
  {
   "cell_type": "code",
   "execution_count": 11,
   "id": "561819a9-7c90-42a8-810e-c0f901bb3cd1",
   "metadata": {},
   "outputs": [
    {
     "name": "stdin",
     "output_type": "stream",
     "text": [
      "Enter Number:  18\n"
     ]
    },
    {
     "name": "stdout",
     "output_type": "stream",
     "text": [
      "Even\n"
     ]
    }
   ],
   "source": [
    "#Check if a given number is even\n",
    "number = int(input(\"Enter Number: \"))\n",
    "iseven = lambda x: \"Even\" if x % 2 == 0 else \"Odd\"\n",
    "\n",
    "print(iseven(number))"
   ]
  },
  {
   "cell_type": "code",
   "execution_count": 12,
   "id": "c669cc69-dd41-471e-9cc3-374529504a51",
   "metadata": {},
   "outputs": [
    {
     "name": "stdout",
     "output_type": "stream",
     "text": [
      "[1, 3, 5, 7, 9]\n"
     ]
    }
   ],
   "source": [
    "#Filter odd numbers from the given list. [1,2,3,4,5,6,7,8,9,10]\n",
    "seq = [1,2,3,4,5,6,7,8,9,10]\n",
    "\n",
    "result = filter(lambda x: x % 2 != 0, seq)\n",
    "print(list(result))"
   ]
  },
  {
   "cell_type": "code",
   "execution_count": 14,
   "id": "b0ed95a5-ead7-4a10-b124-12ef5d560c8b",
   "metadata": {},
   "outputs": [
    {
     "name": "stdout",
     "output_type": "stream",
     "text": [
      "[1, 2, 3, 4, 5, 6]\n",
      "[-1, -2, -3, -4, -5]\n"
     ]
    }
   ],
   "source": [
    "#Sort a list of integers into positive and negative integers lists. [1,2,3,4,5,6,-1,-2,-3,-4,-5,0]\n",
    "seq = [1,2,3,4,5,6,-1,-2,-3,-4,-5,0]\n",
    "\n",
    "positive_integer = [i for i in seq if i > 0]\n",
    "negetive_integer = [i for i in seq if i < 0]\n",
    "\n",
    "print(positive_integer)\n",
    "print(negetive_integer)"
   ]
  }
 ],
 "metadata": {
  "kernelspec": {
   "display_name": "Python 3 (ipykernel)",
   "language": "python",
   "name": "python3"
  },
  "language_info": {
   "codemirror_mode": {
    "name": "ipython",
    "version": 3
   },
   "file_extension": ".py",
   "mimetype": "text/x-python",
   "name": "python",
   "nbconvert_exporter": "python",
   "pygments_lexer": "ipython3",
   "version": "3.10.8"
  }
 },
 "nbformat": 4,
 "nbformat_minor": 5
}
