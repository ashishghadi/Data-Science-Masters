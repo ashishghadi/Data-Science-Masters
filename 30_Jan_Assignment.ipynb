{
 "cells": [
  {
   "cell_type": "code",
   "execution_count": 2,
   "id": "f7d4f3d7-8d56-41e3-a106-312d4aefbbaa",
   "metadata": {},
   "outputs": [
    {
     "name": "stdin",
     "output_type": "stream",
     "text": [
      "Enter Percentage: 70\n"
     ]
    },
    {
     "name": "stdout",
     "output_type": "stream",
     "text": [
      "Grade: C\n"
     ]
    }
   ],
   "source": [
    "##Question1\n",
    "\n",
    "marks = int(input(\"Enter Percentage:\"))\n",
    "\n",
    "if marks>90:\n",
    "    print(\"Grade: A\")\n",
    "elif marks>80:\n",
    "    print(\"Grade: B\")\n",
    "elif marks>=60:\n",
    "    print(\"Grade: C\")\n",
    "elif marks<60:\n",
    "    print(\"Grade: D\")"
   ]
  },
  {
   "cell_type": "code",
   "execution_count": 5,
   "id": "694a1a76-f1d6-4ee1-8941-231f0cbc3c91",
   "metadata": {},
   "outputs": [
    {
     "name": "stdin",
     "output_type": "stream",
     "text": [
      "Enter Cost Price of a Bike: 87500\n"
     ]
    },
    {
     "name": "stdout",
     "output_type": "stream",
     "text": [
      "Road Tax to be paid: 10%\n"
     ]
    }
   ],
   "source": [
    "##Question2\n",
    "\n",
    "cost_price = int(input(\"Enter Cost Price of a Bike:\"))\n",
    "\n",
    "if cost_price>100000:\n",
    "    print(\"Road Tax to be paid: 15%\")\n",
    "elif cost_price>50000:\n",
    "    print(\"Road Tax to be paid: 10%\")\n",
    "elif cost_price<=50000:\n",
    "    print(\"Road Tax to be paid: 5%\")"
   ]
  },
  {
   "cell_type": "code",
   "execution_count": 7,
   "id": "f4e7b4a0-2279-43ec-89f5-719b052d9ab5",
   "metadata": {},
   "outputs": [
    {
     "name": "stdin",
     "output_type": "stream",
     "text": [
      "Enter City[Agra, Delhi, Jaipur]: Jaipur\n"
     ]
    },
    {
     "name": "stdout",
     "output_type": "stream",
     "text": [
      "Monument of the Jaipur City: Jal Mahal\n"
     ]
    }
   ],
   "source": [
    "##Question3\n",
    "\n",
    "city = input(\"Enter City[Agra, Delhi, Jaipur]:\")\n",
    "\n",
    "if city == 'Delhi':\n",
    "    print(\"Monument of the {} City: Red Fort\".format(city))\n",
    "elif city == 'Agra':\n",
    "    print(\"Monument of the {} City: Taj Mahal\".format(city))\n",
    "elif city == 'Jaipur':\n",
    "    print(\"Monument of the {} City: Jal Mahal\".format(city))"
   ]
  },
  {
   "cell_type": "code",
   "execution_count": 9,
   "id": "9bab323e-b90e-4032-bfbe-8af4ef51b346",
   "metadata": {},
   "outputs": [
    {
     "name": "stdin",
     "output_type": "stream",
     "text": [
      "Enter a Number: 99\n"
     ]
    },
    {
     "name": "stdout",
     "output_type": "stream",
     "text": [
      "99 can be divided 3 times by 3 before it is less than or equal to 10\n"
     ]
    }
   ],
   "source": [
    "##Question4\n",
    "\n",
    "num = int(input(\"Enter a Number:\"))\n",
    "count = 0\n",
    "n = num\n",
    "\n",
    "while(num>10):\n",
    "    num = num // 3\n",
    "    count +=1\n",
    "    \n",
    "print(\"{} can be divided {} times by 3 before it is less than or equal to 10.\".format(n,count))"
   ]
  },
  {
   "cell_type": "code",
   "execution_count": 18,
   "id": "9424a581-bef8-4e36-b730-c780c7a7c92e",
   "metadata": {},
   "outputs": [
    {
     "name": "stdin",
     "output_type": "stream",
     "text": [
      "Enter Number of Rows :  6\n"
     ]
    },
    {
     "name": "stdout",
     "output_type": "stream",
     "text": [
      "* \n",
      "* * \n",
      "* * * \n",
      "* * * * \n",
      "* * * * * \n",
      "* * * * * * \n",
      "\n",
      "\n",
      "* * * * * * \n",
      "* * * * * \n",
      "* * * * \n",
      "* * * \n",
      "* * \n",
      "* \n",
      "\n",
      "\n",
      "          * \n",
      "        * * * \n",
      "      * * * * * \n",
      "    * * * * * * * \n",
      "  * * * * * * * * * \n",
      "* * * * * * * * * * * \n"
     ]
    }
   ],
   "source": [
    "##Question6\n",
    "\n",
    "n = int(input('Enter Number of Rows : '))\n",
    " \n",
    "#Pattern1\n",
    "i = 1\n",
    "while i <= n :\n",
    "    j = 1\n",
    "    while j <= i:\n",
    "        print(\"*\", end = \" \")\n",
    "        j += 1\n",
    "    print(\"\")\n",
    "    i += 1\n",
    "    \n",
    "print(\"\\n\")\n",
    "\n",
    "#Pattern2\n",
    "i = 1\n",
    "while i <= n:\n",
    "    j = n\n",
    "    while j >= i:\n",
    "        print(\"*\", end=\" \")\n",
    "        j-=1\n",
    "    print(\"\")\n",
    "    i+=1\n",
    "\n",
    "print(\"\\n\")\n",
    "\n",
    "#Pattern3\n",
    "i=1\n",
    "while i <= n:\n",
    "    j = i\n",
    "    while j <= n-1:\n",
    "        print(\" \", end=' ')\n",
    "        j+=1\n",
    "    k = 1\n",
    "    while k <= i:\n",
    "        print(\"*\", end=' ')\n",
    "        k+=1\n",
    "    l = 1\n",
    "    while l <= i-1:\n",
    "        print(\"*\", end=' ')\n",
    "        l+=1\n",
    "    print(\"\")\n",
    "    i+=1"
   ]
  },
  {
   "cell_type": "code",
   "execution_count": 5,
   "id": "95d58b22-c9fa-4444-89fe-63e7fa7f1a42",
   "metadata": {},
   "outputs": [
    {
     "name": "stdout",
     "output_type": "stream",
     "text": [
      "10\n",
      "9\n",
      "8\n",
      "7\n",
      "6\n",
      "5\n",
      "4\n",
      "3\n",
      "2\n",
      "1\n"
     ]
    }
   ],
   "source": [
    "#Question7\n",
    "i = 10\n",
    "while i > 0 :\n",
    "    print(i)\n",
    "    i-=1"
   ]
  },
  {
   "cell_type": "code",
   "execution_count": null,
   "id": "0c56d48f-4391-4de1-a40d-11cc478c19d3",
   "metadata": {},
   "outputs": [],
   "source": []
  }
 ],
 "metadata": {
  "kernelspec": {
   "display_name": "Python 3 (ipykernel)",
   "language": "python",
   "name": "python3"
  },
  "language_info": {
   "codemirror_mode": {
    "name": "ipython",
    "version": 3
   },
   "file_extension": ".py",
   "mimetype": "text/x-python",
   "name": "python",
   "nbconvert_exporter": "python",
   "pygments_lexer": "ipython3",
   "version": "3.10.8"
  }
 },
 "nbformat": 4,
 "nbformat_minor": 5
}
