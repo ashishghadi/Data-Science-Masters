{
 "cells": [
  {
   "cell_type": "markdown",
   "id": "a0482e4c-a556-4e68-9125-259fbdeacc56",
   "metadata": {},
   "source": [
    "Q1. Create a function which will take a list as an argument and return the product of all the numbers\n",
    "after creating a flat list.\n",
    "Use the below-given list as an argument for your function.\n",
    "list1 = [1,2,3,4, [44,55,66, True], False, (34,56,78,89,34), {1,2,3,3,2,1}, {1:34, \"key2\": [55, 67, 78, 89], 4: (45,\n",
    "22, 61, 34)}, [56, 'data science'], 'Machine Learning']\n",
    "Note: you must extract numeric keys and values of the dictionary also."
   ]
  },
  {
   "cell_type": "code",
   "execution_count": 6,
   "id": "e04fb291-bb4c-46a1-ab06-e1a3b6be9cfa",
   "metadata": {},
   "outputs": [
    {
     "name": "stdout",
     "output_type": "stream",
     "text": [
      "4134711838987085478833841242112000\n"
     ]
    }
   ],
   "source": [
    "def product_of_numbers(lst):\n",
    "    # create a flat list of all the elements in the input list\n",
    "    for elem in lst:\n",
    "        if elem not in (True, False):\n",
    "            if isinstance(elem, (list, tuple, set)):\n",
    "                product_of_numbers(elem)\n",
    "            elif isinstance(elem, dict):\n",
    "                for val in elem.values():\n",
    "                    if isinstance(val, (int, float)):\n",
    "                        flat_lst.append(val)\n",
    "                    elif isinstance(val, (list, tuple, set)):\n",
    "                        product_of_numbers(val)\n",
    "                for key in elem.keys():\n",
    "                    if isinstance(key, (int, float)):\n",
    "                        flat_lst.append(key)\n",
    "            elif isinstance(elem, (int, float)):\n",
    "                flat_lst.append(elem)\n",
    "\n",
    "    # calculate the product of all the numeric values in the flat list\n",
    "    product = 1\n",
    "    for num in flat_lst:\n",
    "        product *= num\n",
    "\n",
    "    return product\n",
    "\n",
    "\n",
    "flat_lst = []\n",
    "list1 = [1,2,3,4, [44,55,66, True], False, (34,56,78,89,34), {1,2,3,3,2,1}, {1:34, \"key2\": [55, 67, 78, 89], 4: (45,\n",
    "22, 61, 34)}, [56, 'data science'], 'Machine Learning']\n",
    "\n",
    "prod = product_of_numbers(list1)\n",
    "print(prod)"
   ]
  },
  {
   "cell_type": "markdown",
   "id": "2acb8fff-e43c-477a-908f-bed41186e457",
   "metadata": {},
   "source": [
    "Q2. Write a python program for encrypting a message sent to you by your friend. The logic of encryption\n",
    "should be such that, for a the output should be z. For b, the output should be y. For c, the output should\n",
    "be x respectively. Also, the whitespace should be replaced with a dollar sign. Keep the punctuation\n",
    "marks unchanged.\n",
    "Input Sentence: I want to become a Data Scientist.\n",
    "Encrypt the above input sentence using the program you just created.\n",
    "Note: Convert the given input sentence into lowercase before encrypting. The final output should be\n",
    "lowercase."
   ]
  },
  {
   "cell_type": "code",
   "execution_count": 7,
   "id": "4a5b77e3-fb2b-4599-a560-40ee5d576571",
   "metadata": {},
   "outputs": [
    {
     "name": "stdout",
     "output_type": "stream",
     "text": [
      "r$dzmg$gl$yvxlnv$z$wzgz$hxrvmgrhg.\n"
     ]
    }
   ],
   "source": [
    "def encrypt_message(message):\n",
    "    # convert the message to lowercase\n",
    "    message = message.lower()\n",
    "\n",
    "    # replace each letter with its corresponding encrypted letter\n",
    "    encrypted_message = \"\"\n",
    "    for char in message:\n",
    "        if char.isalpha():\n",
    "            encrypted_char = chr(ord('a') + (ord('z') - ord(char)))\n",
    "            encrypted_message += encrypted_char\n",
    "        elif char == ' ':\n",
    "            encrypted_message += '$'\n",
    "        else:\n",
    "            encrypted_message += char\n",
    "\n",
    "    return encrypted_message\n",
    "\n",
    "\n",
    "input_sentence = \"I want to become a Data Scientist.\"\n",
    "encrypted_sentence = encrypt_message(input_sentence)\n",
    "print(encrypted_sentence)"
   ]
  }
 ],
 "metadata": {
  "kernelspec": {
   "display_name": "Python 3 (ipykernel)",
   "language": "python",
   "name": "python3"
  },
  "language_info": {
   "codemirror_mode": {
    "name": "ipython",
    "version": 3
   },
   "file_extension": ".py",
   "mimetype": "text/x-python",
   "name": "python",
   "nbconvert_exporter": "python",
   "pygments_lexer": "ipython3",
   "version": "3.10.8"
  }
 },
 "nbformat": 4,
 "nbformat_minor": 5
}
