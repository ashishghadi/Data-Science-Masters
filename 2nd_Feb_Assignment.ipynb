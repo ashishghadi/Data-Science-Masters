{
 "cells": [
  {
   "cell_type": "markdown",
   "id": "66088e5c-7815-4a92-ab5d-61055ac63538",
   "metadata": {},
   "source": [
    "Q1. What are the characteristics of the tuples? Is tuple immutable?"
   ]
  },
  {
   "cell_type": "markdown",
   "id": "c0d25d5c-bac2-4e54-876d-037c522d1d63",
   "metadata": {},
   "source": [
    "A tuple is a collection of ordered and immutable elements, which can be of different data types such as integers, floats, strings, or even other tuples.\n",
    "\n",
    "The main characteristics of tuples are:\n",
    "1. Ordered: The elements in a tuple are ordered, which means they have a specific position or index within the tuple.\n",
    "2. Immutable: A tuple is immutable, which means once it is created, its elements cannot be modified or deleted. \n",
    "              However, it is possible to create a new tuple by concatenating or slicing the original tuple.\n",
    "3. Heterogeneous: A tuple can contain elements of different data types, including other tuples.\n",
    "4. Indexed: Each element in a tuple has a unique index starting from zero, which can be used to access the element.\n",
    "5. Iterable: A tuple can be used in a for loop or other iterable contexts, where each element can be accessed sequentially.\n",
    "\n",
    "Yes, tuples are immutable. Once a tuple is created, its elements cannot be modified or deleted. \n",
    "However, it is possible to create a new tuple by concatenating or slicing the original tuple."
   ]
  },
  {
   "cell_type": "markdown",
   "id": "2e5b73f5-2c33-4808-acc3-e7b19001661b",
   "metadata": {},
   "source": [
    "Q2. What are the two tuple methods in python? Give an example of each method. Give a reason why\n",
    "tuples have only two in-built methods as compared to Lists."
   ]
  },
  {
   "cell_type": "raw",
   "id": "5a42d32e-cadb-49ab-a2ae-520d450d4602",
   "metadata": {},
   "source": [
    "The two tuple methods in Python are:\n",
    "\n",
    "1. count(): This method is used to count the number of occurrences of a specified element in the tuple.\n",
    "Example:\n",
    "\n",
    "my_tuple = (1, 2, 3, 3, 4, 1, 3, 2, 5, 3)\n",
    "count_of_threes = my_tuple.count(3)\n",
    "print(count_of_threes) \n",
    "\n",
    "Output: 4\n",
    "\n",
    "2. index(): This method is used to get the index of the first occurrence of a specified element in the tuple.\n",
    "Example:\n",
    "\n",
    "my_tuple = (1, 2, 3, 3, 4, 1, 3, 2, 5, 3)\n",
    "index_of_four = my_tuple.index(4)\n",
    "print(index_of_four)\n",
    "\n",
    "Output: 4\n",
    "\n",
    "Tuples have only two in-built methods because tuples are immutable, which means once a tuple is created, its elements cannot be modified. \n",
    "Therefore, there is no need for methods like append(), insert(), remove(), or pop() that modify the tuple in place, which are present in lists. \n",
    "The two tuple methods provided are sufficient for accessing and manipulating the contents of a tuple. \n",
    "Additionally, the reduced number of methods makes tuples more efficient and faster to work with than lists in certain situations."
   ]
  },
  {
   "cell_type": "markdown",
   "id": "91346b05-b734-4e33-a577-7285303a8836",
   "metadata": {},
   "source": [
    "Q3. Which collection datatypes in python do not allow duplicate items? Write a code using a set to remove\n",
    "duplicates from the given list.\n",
    "List = [1, 1, 1, 2, 1, 3, 1, 4, 2, 1, 2, 2, 2, 3, 2, 4, 3, 1, 3, 2, 3, 3, 3, 4, 4, 1, 4, 2, 4, 3, 4, 4]"
   ]
  },
  {
   "cell_type": "raw",
   "id": "e8a5b390-931d-4b69-991f-dcf17fc76746",
   "metadata": {},
   "source": [
    "The collection datatypes in Python that do not allow duplicate items are: Sets.\n",
    "\n",
    "Here's an example code using a set to remove duplicates from the given list:\n",
    "\n",
    "my_list = [1, 1, 1, 2, 1, 3, 1, 4, 2, 1, 2, 2, 2, 3, 2, 4, 3, 1, 3, 2, 3, 3, 3, 4, 4, 1, 4, 2, 4, 3, 4, 4]\n",
    "unique_set = set(my_list)\n",
    "unique_list = list(unique_set)\n",
    "print(unique_list)\n",
    "\n",
    "Output:\n",
    "[1, 2, 3, 4]"
   ]
  },
  {
   "cell_type": "markdown",
   "id": "180e8a82-a395-4851-94ee-06b16deef20f",
   "metadata": {},
   "source": [
    "Q4. Explain the difference between the union() and update() methods for a set. Give an example of\n",
    "each method."
   ]
  },
  {
   "cell_type": "raw",
   "id": "81507444-8f5b-4ae0-9be4-c97bb150f7be",
   "metadata": {},
   "source": [
    "Both union() and update() are set methods in Python, but they differ in their behavior:\n",
    "\n",
    "1. union(): This method returns a new set that contains all the unique elements from the original set as well as the specified set or iterable. The original sets are not modified.\n",
    "Example:\n",
    "    \n",
    "set_a = {1, 2, 3}\n",
    "set_b = {3, 4, 5}\n",
    "union_set = set_a.union(set_b)\n",
    "print(union_set) \n",
    "\n",
    "Output: \n",
    "{1, 2, 3, 4, 5}\n",
    "\n",
    "In above example, the union() method is used to create a new set union_set that contains all the unique elements from set_a and set_b.\n",
    "\n",
    "2. update(): This method modifies the original set by adding all the unique elements from the specified set or iterable to it.\n",
    "Example:\n",
    "\n",
    "set_a = {1, 2, 3}\n",
    "set_b = {3, 4, 5}\n",
    "set_a.update(set_b)\n",
    "print(set_a)  \n",
    "\n",
    "Output: \n",
    "{1, 2, 3, 4, 5}\n",
    "\n",
    "In above example, the update() method is used to add all the unique elements from set_b to set_a, modifying set_a in place.\n",
    "\n",
    "The key difference between union() and update() is that union() returns a new set without modifying the original sets,\n",
    "whereas update() modifies the original set by adding new elements to it."
   ]
  },
  {
   "cell_type": "markdown",
   "id": "aa212615-04e8-4b5c-9cf6-24783aff3411",
   "metadata": {},
   "source": [
    "Q5. What is a dictionary? Give an example. Also, state whether a dictionary is ordered or unordered."
   ]
  },
  {
   "cell_type": "raw",
   "id": "482c1d63-2d87-4ff4-9426-1cfabba66334",
   "metadata": {},
   "source": [
    "In programming, a dictionary is a collection of key-value pairs, where each key is associated with a corresponding value.\n",
    "\n",
    "Here's an example of a dictionary in Python, where we have a dictionary of fruit names and their corresponding prices:\n",
    "\n",
    "fruit_prices = {\n",
    "    \"apple\": 80,\n",
    "    \"banana\": 50,\n",
    "    \"orange\": 70,\n",
    "    \"guava\": 65\n",
    "}\n",
    "\n",
    "In above example, the keys are \"apple\", \"banana\", \"orange\", and \"guava\", and their corresponding values are 80, 50, 70 and 65 respectively.\n",
    "\n",
    "In Python, dictionaries are unordered, which means that the order in which the key-value pairs are added to the dictionary may not be preserved when you iterate over them. "
   ]
  },
  {
   "cell_type": "markdown",
   "id": "ca3dd389-d0e7-44f2-900a-1fb292bc2a9f",
   "metadata": {},
   "source": [
    "Q6. Can we create a nested dictionary? If so, please give an example by creating a simple one-level\n",
    "nested dictionary."
   ]
  },
  {
   "cell_type": "raw",
   "id": "9a4c7601-9de4-45c4-868a-14538da1698a",
   "metadata": {},
   "source": [
    "Yes, we can create a nested dictionary in Python. A nested dictionary is a dictionary inside a dictionary, where the value associated with each key is itself another dictionary.\n",
    "\n",
    "Here's an example of a simple one-level nested dictionary in Python:\n",
    "\n",
    "student_details = {\n",
    "    \"Karan\": {\n",
    "        \"age\": 20,\n",
    "        \"gender\": \"male\"\n",
    "    },\n",
    "    \"Suman\": {\n",
    "        \"age\": 19,\n",
    "        \"gender\": \"female\"\n",
    "    },\n",
    "    \"Divesh\": {\n",
    "        \"age\": 21,\n",
    "        \"gender\": \"male\"\n",
    "    }\n",
    "}\n",
    "\n",
    "In above example, we have a dictionary called student_details, which contains three keys: \"Karan\", \"Suman\" and \"Divesh\".\n",
    "Each of these keys has a corresponding value, which is itself a dictionary containing the age and gender of the respective student.\n",
    "This is an example of a one-level nested dictionary, as each value in the outer dictionary is a dictionary itself.\n",
    "We could also create dictionaries with more than one level of nesting, where the values of an outer dictionary are dictionaries themselves.\n"
   ]
  },
  {
   "cell_type": "markdown",
   "id": "6a56cdbb-2c44-447b-863d-1a93d3d223e0",
   "metadata": {},
   "source": [
    "Q7. Using setdefault() method, create key named topics in the given dictionary and also add the value of\n",
    "the key as this list ['Python', 'Machine Learning’, 'Deep Learning']\n",
    "dict1 = {'language' : 'Python', 'course': 'Data Science Masters'}"
   ]
  },
  {
   "cell_type": "raw",
   "id": "847000f0-d1a2-47b4-9904-db85b4773ce2",
   "metadata": {},
   "source": [
    "Here's how you can use the setdefault() method to create a new key named topics \n",
    "and add the list ['Python', 'Machine Learning’, 'Deep Learning'] as its value to the given dictionary dict1:\n",
    "\n",
    "dict1 = {'language' : 'Python', 'course': 'Data Science Masters'}\n",
    "dict1.setdefault('topics', ['Python', 'Machine Learning', 'Deep Learning'])\n",
    "\n",
    "In this code, setdefault() is used to set the value of the topics key to ['Python', 'Machine Learning’, 'Deep Learning']. \n",
    "If the topics key already exists in the dictionary, the setdefault() method will not modify its value. \n",
    "If the key does not exist, setdefault() will create it and set its value to the provided default value, which is the list ['Python', 'Machine Learning’, 'Deep Learning'] in this case.\n",
    "\n",
    "After running this code, the dictionary dict1 will have the topics key with the value ['Python', 'Machine Learning’, 'Deep Learning'] added to it, like this:\n",
    "{'language': 'Python', 'course': 'Data Science Masters', 'topics': ['Python', 'Machine Learning', 'Deep Learning']}"
   ]
  },
  {
   "cell_type": "markdown",
   "id": "360c8da2-4fbd-4f94-b50a-2b64218bcce1",
   "metadata": {},
   "source": [
    "Q8. What are the three view objects in dictionaries? Use the three in-built methods in python to display these three view objects for the given dictionary.\n",
    "dict1 = {'Sport': 'Cricket' , 'Teams': ['India', 'Australia', 'England', 'South Africa', 'Sri Lanka', 'New Zealand']}"
   ]
  },
  {
   "cell_type": "raw",
   "id": "e7bfd546-2ea8-42c9-8b19-fa771c27d599",
   "metadata": {},
   "source": [
    "In Python, there are three view objects for dictionaries:\n",
    "\n",
    "1. dict_keys: This view object contains the keys of the dictionary.\n",
    "2. dict_values: This view object contains the values of the dictionary.\n",
    "3. dict_items: This view object contains the key-value pairs of the dictionary as tuples.\n",
    "\n",
    "Here are the three in-built methods in Python that can be used to display these view objects for the given dictionary dict1:\n",
    "dict1 = {'Sport': 'Cricket' , 'Teams': ['India', 'Australia', 'England', 'South Africa', 'Sri Lanka', 'New Zealand']}\n",
    "\n",
    "# Get the dict_keys view object\n",
    "keys = dict1.keys()\n",
    "print(keys)\n",
    "\n",
    "# Get the dict_values view object\n",
    "values = dict1.values()\n",
    "print(values)\n",
    "\n",
    "# Get the dict_items view object\n",
    "items = dict1.items()\n",
    "print(items)\n",
    "\n",
    "When we run this code, we will get following output:\n",
    "dict_keys(['Sport', 'Teams'])\n",
    "dict_values(['Cricket', ['India', 'Australia', 'England', 'South Africa', 'Sri Lanka', 'New Zealand']])\n",
    "dict_items([('Sport', 'Cricket'), ('Teams', ['India', 'Australia', 'England', 'South Africa', 'Sri Lanka', 'New Zealand'])])\n",
    "\n",
    "Here, we can see that each view object is displayed as a different type of object: dict_keys, dict_values, and dict_items.\n",
    "We can use these view objects to access the keys, values, and items of the dictionary in various ways, \n",
    "such as iterating over them or converting them to lists or sets."
   ]
  }
 ],
 "metadata": {
  "kernelspec": {
   "display_name": "Python 3 (ipykernel)",
   "language": "python",
   "name": "python3"
  },
  "language_info": {
   "codemirror_mode": {
    "name": "ipython",
    "version": 3
   },
   "file_extension": ".py",
   "mimetype": "text/x-python",
   "name": "python",
   "nbconvert_exporter": "python",
   "pygments_lexer": "ipython3",
   "version": "3.10.8"
  }
 },
 "nbformat": 4,
 "nbformat_minor": 5
}
