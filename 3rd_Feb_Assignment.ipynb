{
 "cells": [
  {
   "cell_type": "markdown",
   "id": "547ea287-7a26-40bf-a5ca-999b861cc292",
   "metadata": {},
   "source": [
    "Q1. Which keyword is used to create a function? Create a function to return a list of odd numbers in the\n",
    "range of 1 to 25."
   ]
  },
  {
   "cell_type": "markdown",
   "id": "c07c7d50-5670-4f2f-8431-5fe2a032f930",
   "metadata": {},
   "source": [
    "The keyword used to create a function is \"def\".\n",
    "Function that returns a list of odd numbers in the range of 1 to 25:"
   ]
  },
  {
   "cell_type": "code",
   "execution_count": 1,
   "id": "4d5a5582-7177-4d7b-9fe7-2a631fb7c9df",
   "metadata": {},
   "outputs": [],
   "source": [
    "def odd_numbers():\n",
    "    odd_nums = []\n",
    "    for i in range(1, 25):\n",
    "        if i % 2 != 0:\n",
    "            odd_nums.append(i)\n",
    "    return odd_nums"
   ]
  },
  {
   "cell_type": "code",
   "execution_count": 4,
   "id": "b6b8ffe7-750f-4e3f-8297-bdcce17a56bc",
   "metadata": {},
   "outputs": [
    {
     "data": {
      "text/plain": [
       "[1, 3, 5, 7, 9, 11, 13, 15, 17, 19, 21, 23]"
      ]
     },
     "execution_count": 4,
     "metadata": {},
     "output_type": "execute_result"
    }
   ],
   "source": [
    "odd_numbers()"
   ]
  },
  {
   "cell_type": "markdown",
   "id": "165dff36-d822-4be7-95c8-1e9b46dd6267",
   "metadata": {},
   "source": [
    "Q2. Why *args and **kwargs is used in some functions? Create a function each for *args and **kwargs to\n",
    "demonstrate their use."
   ]
  },
  {
   "cell_type": "markdown",
   "id": "899b0e11-319e-40b8-86ea-3ab68cc605a4",
   "metadata": {},
   "source": [
    "*args and **kwargs are special syntax in Python that allow a function to accept a variable number of arguments.\n",
    "\n",
    "*args is used to pass a variable number of non-keyworded arguments to a function.\n",
    "When a function is called with *args, the arguments are passed in as a tuple.\n",
    "This can be useful when you don't know how many arguments the function will receive at runtime. \n",
    "Below is an example function that uses *args:"
   ]
  },
  {
   "cell_type": "code",
   "execution_count": 2,
   "id": "d07aeb9b-a160-44c9-b1b7-6a705b11d5c3",
   "metadata": {},
   "outputs": [],
   "source": [
    "def sum_numbers(*args):\n",
    "    result = 0\n",
    "    for number in args:\n",
    "        result += number\n",
    "    return result"
   ]
  },
  {
   "cell_type": "code",
   "execution_count": 5,
   "id": "390a1383-dc3d-4874-bb79-d5f9592c8f70",
   "metadata": {},
   "outputs": [
    {
     "data": {
      "text/plain": [
       "45"
      ]
     },
     "execution_count": 5,
     "metadata": {},
     "output_type": "execute_result"
    }
   ],
   "source": [
    "sum_numbers(1,2,3,4,5,6,7,8,9)"
   ]
  },
  {
   "cell_type": "markdown",
   "id": "56d207fa-1aaa-45a0-8884-56b004aed478",
   "metadata": {},
   "source": [
    "Above function takes in any number of arguments and returns the sum of those numbers.\n",
    "\n",
    "**kwargs is used to pass a variable number of keyworded arguments to a function.\n",
    "When a function is called with **kwargs, the arguments are passed in as a dictionary.\n",
    "This can be useful when you want to pass in arguments by name and their corresponding values.\n",
    "Below is an example function that uses **kwargs:"
   ]
  },
  {
   "cell_type": "code",
   "execution_count": 6,
   "id": "4605b2ef-4a3e-4171-909a-bad4a3a33038",
   "metadata": {},
   "outputs": [],
   "source": [
    "def print_details(**kwargs):\n",
    "    for key, value in kwargs.items():\n",
    "        print(f\"{key}: {value}\")"
   ]
  },
  {
   "cell_type": "code",
   "execution_count": 7,
   "id": "5c1be015-c979-4d81-b4ea-31e49dded337",
   "metadata": {},
   "outputs": [
    {
     "name": "stdout",
     "output_type": "stream",
     "text": [
      "name: Ashish\n",
      "age: 25\n",
      "city: Mumbai\n"
     ]
    }
   ],
   "source": [
    "print_details(name='Ashish', age=25, city='Mumbai')"
   ]
  },
  {
   "cell_type": "markdown",
   "id": "ac80c042-9e3f-4b4c-8eee-517cfaa509cd",
   "metadata": {},
   "source": [
    "Above function takes in any number of keyworded arguments and prints out their names and values.\n",
    "\n",
    "In summary, *args and **kwargs are used in Python functions to accept a variable number of non-keyworded and keyworded arguments, respectively,\n",
    "which can be useful in situations where the number of arguments passed to a function is not known ahead of time."
   ]
  },
  {
   "cell_type": "markdown",
   "id": "12dea0bc-6cfe-489f-b041-679228e955f1",
   "metadata": {},
   "source": [
    "Q3. What is an iterator in python? Name the method used to initialise the iterator object and the method\n",
    "used for iteration. Use these methods to print the first five elements of the given list [2, 4, 6, 8, 10, 12, 14, 16,\n",
    "18, 20]."
   ]
  },
  {
   "cell_type": "markdown",
   "id": "b914e250-6844-481d-9b20-c5a041856ff5",
   "metadata": {},
   "source": [
    "An iterator is an object in Python that can be iterated (looped) upon, meaning you can traverse through all the values.\n",
    "In Python, an iterator is an object that implements the iterator protocol, which consists of the methods __iter__() and __next__().\n",
    "\n",
    "1.  To initialize an iterator object in Python, you need to call the iter() function on an iterable object (e.g. list, tuple, dictionary, etc.).\n",
    "    The iter() function returns an iterator object.\n",
    "\n",
    "2.  To iterate over the elements of an iterator object in Python, you need to call the next() function on the iterator object.\n",
    "    The next() function returns the next element in the iterator. When there are no more elements in the iterator, the next() function raises the StopIteration exception.\n",
    "\n",
    "Below is an example of how to use the iter() function and the next() function to print the first five elements of the list [2, 4, 6, 8, 10, 12, 14, 16, 18, 20]:"
   ]
  },
  {
   "cell_type": "code",
   "execution_count": 11,
   "id": "27ce0d6e-c28a-44ef-9aa7-f5cbb61aeeb6",
   "metadata": {},
   "outputs": [
    {
     "name": "stdout",
     "output_type": "stream",
     "text": [
      "2\n",
      "4\n",
      "6\n",
      "8\n",
      "10\n"
     ]
    }
   ],
   "source": [
    "my_list = [2, 4, 6, 8, 10, 12, 14, 16, 18, 20]\n",
    "my_iterator = iter(my_list)\n",
    "\n",
    "for i in range(5):\n",
    "    print(next(my_iterator))"
   ]
  },
  {
   "cell_type": "markdown",
   "id": "2a0d8e3e-9319-4dfd-9380-23580d63441a",
   "metadata": {},
   "source": [
    "Q4. What is a generator function in python? Why yield keyword is used? Give an example of a generator\n",
    "function."
   ]
  },
  {
   "cell_type": "markdown",
   "id": "6c22758a-a33b-4f69-bc4c-a599179443a0",
   "metadata": {},
   "source": [
    "A generator function in Python is a special type of function that generates a sequence of values using the yield keyword.\n",
    "Instead of returning a single value or a list of values, a generator function returns an iterator object that can be used to iterate over a sequence of values.\n",
    "\n",
    "The yield keyword is used in a generator function to return a value from the generator and temporarily suspend the execution of the function.\n",
    "When the generator is iterated over, the function resumes execution from where it left off and generates the next value in the sequence.\n",
    "This process continues until there are no more values to generate, at which point the generator function raises the 'StopIteration' exception.\n",
    "\n",
    "Below is an example of a generator function in Python that generates a sequence of squares:"
   ]
  },
  {
   "cell_type": "code",
   "execution_count": 16,
   "id": "43dbc692-9aa1-4313-8f4d-632c7c52c20d",
   "metadata": {},
   "outputs": [
    {
     "name": "stdout",
     "output_type": "stream",
     "text": [
      "1\n",
      "4\n",
      "9\n",
      "16\n",
      "25\n",
      "36\n",
      "49\n",
      "64\n",
      "81\n",
      "100\n"
     ]
    }
   ],
   "source": [
    "def square_generator(n):\n",
    "    for i in range(1, n):\n",
    "        yield i**2\n",
    "        \n",
    "for j in square_generator(11):\n",
    "    print(j)"
   ]
  },
  {
   "cell_type": "markdown",
   "id": "0e592108-72ca-4d10-9e77-bc4ddf07fe09",
   "metadata": {},
   "source": [
    "In this example, we define a generator function called 'square_generator' that takes in a single argument n.\n",
    "The function uses a for loop to iterate over the range of numbers from 1 to n-1.\n",
    "For each number in the range, the function yields the square of the number using the yield keyword.\n",
    "Then we can iterate over function & print each square value."
   ]
  },
  {
   "cell_type": "markdown",
   "id": "866cb277-b3cd-4252-928d-860b2e6a2735",
   "metadata": {},
   "source": [
    "Q5. Create a generator function for prime numbers less than 1000. Use the next() method to print the\n",
    "first 20 prime numbers."
   ]
  },
  {
   "cell_type": "code",
   "execution_count": null,
   "id": "fb1f60f2-cb26-4c0c-9aa4-e64ffd13f438",
   "metadata": {},
   "outputs": [],
   "source": [
    "def generate_primes():\n",
    "    primes = []\n",
    "    for num in range(2, 1000):\n",
    "        is_prime = True\n",
    "        for prime in primes:\n",
    "            if num % prime == 0:\n",
    "                is_prime = False\n",
    "                break\n",
    "        if is_prime:\n",
    "            primes.append(num)\n",
    "            yield num\n"
   ]
  }
 ],
 "metadata": {
  "kernelspec": {
   "display_name": "Python 3 (ipykernel)",
   "language": "python",
   "name": "python3"
  },
  "language_info": {
   "codemirror_mode": {
    "name": "ipython",
    "version": 3
   },
   "file_extension": ".py",
   "mimetype": "text/x-python",
   "name": "python",
   "nbconvert_exporter": "python",
   "pygments_lexer": "ipython3",
   "version": "3.10.8"
  }
 },
 "nbformat": 4,
 "nbformat_minor": 5
}
