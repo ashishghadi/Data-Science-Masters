{
 "cells": [
  {
   "cell_type": "markdown",
   "id": "d1f7fb3c-c086-4482-b345-553becbdb1fa",
   "metadata": {},
   "source": [
    "Q1. Create a vehicle class with an init method having instance variables as name_of_vehicle, max_speed\n",
    "and average_of_vehicle."
   ]
  },
  {
   "cell_type": "code",
   "execution_count": 1,
   "id": "955bf9b5-4fb1-4244-96d2-82be22f98fb5",
   "metadata": {},
   "outputs": [],
   "source": [
    "class Vehicle:\n",
    "    def __init__(self, name_of_vehicle, max_speed, average_of_vehicle):\n",
    "        self.name_of_vehicle = name_of_vehicle\n",
    "        self.max_speed = max_speed\n",
    "        self.average_of_vehicle = average_of_vehicle"
   ]
  },
  {
   "cell_type": "markdown",
   "id": "7ad78c1a-f832-40ab-9771-340437c37eed",
   "metadata": {},
   "source": [
    "Q2. Create a child class car from the vehicle class created in Que 1, which will inherit the vehicle class.\n",
    "Create a method named seating_capacity which takes capacity as an argument and returns the name of\n",
    "the vehicle and its seating capacity."
   ]
  },
  {
   "cell_type": "code",
   "execution_count": 3,
   "id": "e9351422-e6b7-40bb-b69f-fce6a45ca78d",
   "metadata": {},
   "outputs": [
    {
     "name": "stdout",
     "output_type": "stream",
     "text": [
      "Toyota has a seating capacity of 5 people.\n"
     ]
    }
   ],
   "source": [
    "class Car(Vehicle):\n",
    "    def seating_capacity(self, capacity):\n",
    "        return f\"{self.name_of_vehicle} has a seating capacity of {capacity} people.\"\n",
    "    \n",
    "car = Car(\"Toyota\", 120, 25)\n",
    "# print(car.name_of_vehicle)\n",
    "# print(car.max_speed)\n",
    "# print(car.average_of_vehicle)\n",
    "\n",
    "print(car.seating_capacity(5))"
   ]
  },
  {
   "cell_type": "markdown",
   "id": "d2b80c54-abc6-4f6f-9875-8cc90cd81e22",
   "metadata": {},
   "source": [
    "Q3. What is multiple inheritance? Write a python code to demonstrate multiple inheritance."
   ]
  },
  {
   "cell_type": "markdown",
   "id": "737f70d3-b670-40dd-ac6e-7e11079ee328",
   "metadata": {},
   "source": [
    "Multiple inheritance is a feature of object-oriented programming where a subclass can inherit from more than one parent class. This allows the subclass to have all of the attributes and methods of both parent classes.\n",
    "\n",
    "Here's an example of a Python code that demonstrates multiple inheritance:"
   ]
  },
  {
   "cell_type": "code",
   "execution_count": 8,
   "id": "d0ee1419-dd4e-4495-a199-e555fd453100",
   "metadata": {},
   "outputs": [
    {
     "name": "stdout",
     "output_type": "stream",
     "text": [
      "My name is Ashish and I'm 23 years old.\n",
      "I'm from Technical department & my salary is Rs.500000 per year.\n"
     ]
    }
   ],
   "source": [
    "class Person:\n",
    "    def __init__(self, name, age):\n",
    "        self.name = name\n",
    "        self.age = age\n",
    "\n",
    "    def introduce(self):\n",
    "        print(f\"My name is {self.name} and I'm {self.age} years old.\")\n",
    "\n",
    "\n",
    "class Employee:\n",
    "    def __init__(self, salary, department):\n",
    "        self.salary = salary\n",
    "        self.department = department\n",
    "\n",
    "    def get_salary(self):\n",
    "        print(f\"I'm from {self.department} department & my salary is Rs.{self.salary} per year.\")\n",
    "\n",
    "class Manager(Person, Employee):\n",
    "    def __init__(self, name, age, salary, department):\n",
    "        Person.__init__(self, name, age)\n",
    "        Employee.__init__(self, salary, department)\n",
    "        \n",
    "manager = Manager('Ashish', 23, 500000, 'Technical')\n",
    "manager.introduce()\n",
    "manager.get_salary()"
   ]
  },
  {
   "cell_type": "markdown",
   "id": "df3dc6ee-7a3c-4271-86e1-4355ec373f2b",
   "metadata": {},
   "source": [
    "Q4. What are getter and setter in python? Create a class and create a getter and a setter method in this\n",
    "class."
   ]
  },
  {
   "cell_type": "markdown",
   "id": "ca38f204-28d7-42e3-ae6e-a9b9eb4ddbf2",
   "metadata": {},
   "source": [
    "Getters and setters are methods that are used to access and modify the values of instance variables in a class. They are a way to ensure encapsulation in object-oriented programming, which means that the implementation details of the class are hidden from the user.\n",
    "\n",
    "Here's an example of a class with a getter and a setter method:"
   ]
  },
  {
   "cell_type": "code",
   "execution_count": 13,
   "id": "5f40c0a0-f37b-4dd5-8bbe-7e851d68b3b2",
   "metadata": {},
   "outputs": [
    {
     "name": "stdout",
     "output_type": "stream",
     "text": [
      "Ashish\n",
      "23\n",
      "Ashwin\n",
      "25\n"
     ]
    }
   ],
   "source": [
    "class Person:\n",
    "    def __init__(self, name, age):\n",
    "        self.__name = name\n",
    "        self.__age = age\n",
    "    \n",
    "    def get_name(self):\n",
    "        return self.__name\n",
    "    \n",
    "    def set_name(self, name_var):\n",
    "        self.__name = name_var\n",
    "    \n",
    "    def get_age(self):\n",
    "        return self.__age\n",
    "    \n",
    "    def set_age(self, age_val):\n",
    "        self.__age = age_val\n",
    "\n",
    "person = Person(\"Ashish\", 23)\n",
    "print(person.get_name())\n",
    "print(person.get_age())\n",
    "\n",
    "person.set_name(\"Ashwin\")\n",
    "person.set_age(25)\n",
    "\n",
    "print(person.get_name())\n",
    "print(person.get_age())"
   ]
  },
  {
   "cell_type": "markdown",
   "id": "5cdb031b-231a-4b7d-8adf-4f1b8bd76ba2",
   "metadata": {},
   "source": [
    "Q5.What is method overriding in python? Write a python code to demonstrate method overriding."
   ]
  },
  {
   "cell_type": "markdown",
   "id": "bb0707df-e4c1-4730-9bcd-5c4f35bcadf0",
   "metadata": {},
   "source": [
    "Method overriding is a feature of object-oriented programming where a subclass provides a different implementation of a method that is already defined in its parent class. This means that the subclass can \"override\" the behavior of the method inherited from the parent class.\n",
    "\n",
    "Here's an example of Python code that demonstrates method overriding:"
   ]
  },
  {
   "cell_type": "code",
   "execution_count": 14,
   "id": "798a3faa-5ce2-43b2-922d-04581f83d85c",
   "metadata": {},
   "outputs": [
    {
     "name": "stdout",
     "output_type": "stream",
     "text": [
      "The animal makes a sound.\n",
      "The dog barks.\n",
      "The cat meows.\n"
     ]
    }
   ],
   "source": [
    "class Animal:\n",
    "    def speak(self):\n",
    "        print(\"The animal makes a sound.\")\n",
    "\n",
    "class Dog(Animal):\n",
    "    def speak(self):\n",
    "        print(\"The dog barks.\")\n",
    "\n",
    "class Cat(Animal):\n",
    "    def speak(self):\n",
    "        print(\"The cat meows.\")\n",
    "\n",
    "animal = Animal()\n",
    "dog = Dog()\n",
    "cat = Cat()\n",
    "\n",
    "animal.speak()\n",
    "dog.speak()\n",
    "cat.speak()"
   ]
  },
  {
   "cell_type": "markdown",
   "id": "a8f38324-f25c-44e7-a629-8993ad9caeaa",
   "metadata": {},
   "source": [
    "In this example, we define an Animal class with a speak method that simply prints \"The animal makes a sound\". We then define two subclasses of Animal: Dog and Cat, which both override the speak method with their own implementation.\n",
    "\n",
    "When we create instances of Animal, Dog, and Cat, and call their speak method, we can see that the method is overridden in the subclasses to produce different behavior."
   ]
  }
 ],
 "metadata": {
  "kernelspec": {
   "display_name": "Python 3 (ipykernel)",
   "language": "python",
   "name": "python3"
  },
  "language_info": {
   "codemirror_mode": {
    "name": "ipython",
    "version": 3
   },
   "file_extension": ".py",
   "mimetype": "text/x-python",
   "name": "python",
   "nbconvert_exporter": "python",
   "pygments_lexer": "ipython3",
   "version": "3.10.8"
  }
 },
 "nbformat": 4,
 "nbformat_minor": 5
}
