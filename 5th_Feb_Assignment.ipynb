{
 "cells": [
  {
   "cell_type": "markdown",
   "id": "ca8763ba-3f0b-4608-a1f0-b2e1f70496f7",
   "metadata": {},
   "source": [
    "Q1. Explain Class and Object with respect to Object-Oriented Programming. Give a suitable example."
   ]
  },
  {
   "cell_type": "markdown",
   "id": "b79e131f-6155-40df-80fd-bc35dde75c99",
   "metadata": {},
   "source": [
    "In object-oriented programming, a class is a blueprint or a template that defines the properties and behavior of an object. An object, on the other hand, is an instance of a class that has its own state (i.e., data) and behavior (i.e., methods).\n",
    "\n",
    "For example, let's consider a class named \"Car\" which has attributes like \"make\", \"model\", \"color\", and \"speed\", and methods like \"accelerate\", \"decelerate\", \"turn_left\", and \"turn_right\". This class defines the blueprint for a car object.\n",
    "\n",
    "Now, if we create two instances of this class, they will be two different objects with their own set of attributes and methods. For example, we could create a car object named \"my_car\" with attributes \"make\"=\"Toyota\", \"model\"=\"Corolla\", \"color\"=\"red\", and \"speed\"=100. We could then use the methods of this object to make it accelerate, decelerate, turn_left, and turn_right.\n",
    "\n",
    "Similarly, we could create another car object named \"your_car\" with attributes \"make\"=\"Ford\", \"model\"=\"Mustang\", \"color\"=\"blue\", and \"speed\"=150, and use its methods to manipulate its state.\n",
    "\n",
    "In summary, a class defines a blueprint for an object, and an object is an instance of a class with its own state and behavior."
   ]
  },
  {
   "cell_type": "markdown",
   "id": "36233e1a-60df-4887-acda-f0039f908a2f",
   "metadata": {},
   "source": [
    "Q2. Name the four pillars of OOPs."
   ]
  },
  {
   "cell_type": "markdown",
   "id": "980e8c35-a3b9-44fb-a1e3-24a50fefbb2d",
   "metadata": {},
   "source": [
    "The four pillars of object-oriented programming (OOP) are:\n",
    "\n",
    "1.Encapsulation: Encapsulation is the process of hiding internal data and functionality of an object from the outside world and allowing access to it only through a well-defined interface. It helps to prevent unauthorized access and modification of the object's state.\n",
    "\n",
    "2.Inheritance: Inheritance is the process of creating a new class from an existing class, inheriting the properties and methods of the existing class. It allows code reuse and promotes the creation of a hierarchy of related classes.\n",
    "\n",
    "3.Polymorphism: Polymorphism is the ability of an object to take on multiple forms. It allows objects of different classes to be treated as if they were of the same class, as long as they implement the same interface or inherit from the same superclass.\n",
    "\n",
    "4.Abstraction: Abstraction is the process of defining a simplified representation of a complex system. It allows us to focus on the essential features of an object, ignoring the non-essential details. This helps to reduce complexity and improve readability of the code."
   ]
  },
  {
   "cell_type": "markdown",
   "id": "40f4cc04-147d-4084-8e60-593755dbc63d",
   "metadata": {},
   "source": [
    "Q3. Explain why the __init__() function is used. Give a suitable example."
   ]
  },
  {
   "cell_type": "markdown",
   "id": "efc72e56-3e1c-4403-8a52-a4ddec798cc0",
   "metadata": {},
   "source": [
    "The __init__() function is a special method in Python that is used to initialize the attributes of an object. It is called automatically when an object is created from a class.\n",
    "\n",
    "The main purpose of the __init__() method is to provide default values for an object's attributes and to perform any necessary setup or initialization tasks before the object is used.\n",
    "\n",
    "For example, let's consider a class named \"Person\" that has attributes like \"name\", \"age\", and \"gender\". We can use the __init__() method to initialize these attributes when a new Person object is created. Here's an example:"
   ]
  },
  {
   "cell_type": "code",
   "execution_count": 3,
   "id": "54fb1672-d5d9-4da6-9c81-1535c911d3d4",
   "metadata": {},
   "outputs": [
    {
     "name": "stdout",
     "output_type": "stream",
     "text": [
      "My name is Ashish and I am 30 years old.\n",
      "My name is Smriti and I am 25 years old.\n"
     ]
    }
   ],
   "source": [
    "class Person:\n",
    "    def __init__(self, name, age, gender):\n",
    "        self.name = name\n",
    "        self.age = age\n",
    "        self.gender = gender\n",
    "        \n",
    "    def introduce(self):\n",
    "        print(\"My name is\", self.name, \"and I am\", self.age, \"years old.\")\n",
    "        \n",
    "        \n",
    "p1 = Person(\"Ashish\", 30, \"Male\")\n",
    "p2 = Person(\"Smriti\", 25, \"Female\")\n",
    "\n",
    "p1.introduce()\n",
    "p2.introduce()"
   ]
  },
  {
   "cell_type": "markdown",
   "id": "ae207506-65bb-4a0d-85d3-7954dc53d793",
   "metadata": {},
   "source": [
    "Q4. Why self is used in OOPs?"
   ]
  },
  {
   "cell_type": "markdown",
   "id": "1b74da6b-77de-4b3a-a48b-63d1ede24fba",
   "metadata": {},
   "source": [
    "In Object-Oriented Programming (OOP), \"self\" refers to the current instance of the class. It is used to access the attributes and methods of the object itself.\n",
    "\n",
    "One of the main advantages of using \"self\" is that it allows us to create multiple instances of a class, each with their own set of attributes and methods. Without \"self\", we wouldn't be able to differentiate between the different instances of the same class.\n",
    "\n",
    "For example, let's say we have a class called \"Person\" and we want to create two instances of this class, \"Ashish\" and \"Kaushik\". Using \"self\", we can define the attributes and methods for each instance separately, like so:"
   ]
  },
  {
   "cell_type": "code",
   "execution_count": 5,
   "id": "5b378fbf-20da-4635-a4bd-08cff1638df3",
   "metadata": {},
   "outputs": [
    {
     "name": "stdout",
     "output_type": "stream",
     "text": [
      "Hello, My Name is Ashish and I am 25 years old.\n",
      "Hello, My Name is Kaushik and I am 22 years old.\n"
     ]
    }
   ],
   "source": [
    "class Person:\n",
    "    def __init__(self, name, age):\n",
    "        self.name = name\n",
    "        self.age = age\n",
    "    \n",
    "    def say_hello(self):\n",
    "        print(\"Hello, My Name is\", self.name, \"and I am\", self.age, \"years old.\")\n",
    "\n",
    "ashish = Person(\"Ashish\", 25)\n",
    "kaushik = Person(\"Kaushik\", 22)\n",
    "\n",
    "ashish.say_hello()\n",
    "kaushik.say_hello()"
   ]
  },
  {
   "cell_type": "markdown",
   "id": "154b92f6-d2e6-44d2-b860-31273f02d8c3",
   "metadata": {},
   "source": [
    "Q5. What is inheritance? Give an example for each type of inheritance."
   ]
  },
  {
   "cell_type": "markdown",
   "id": "939634ff-c3fe-4edc-8a4b-3a039d071fc2",
   "metadata": {},
   "source": [
    "Inheritance is one of the fundamental concepts in object-oriented programming (OOP) that allows a new class to be based on an existing class (or classes), inheriting its attributes and methods. The existing class is called the parent class or base class, and the new class is called the child class or derived class.\n",
    "\n",
    "There are four types of inheritance in Python:\n",
    "1.Single Inheritance\n",
    "2.Multiple Inheritance\n",
    "3.Multi-level Inheritance\n",
    "4.Hierarchical Inheritance\n",
    "\n",
    "Let's look at an example for each type:\n",
    "\n",
    "1] Single Inheritance:\n",
    "Single inheritance is when a child class inherits from a single parent class.\n",
    "Example:"
   ]
  },
  {
   "cell_type": "code",
   "execution_count": 6,
   "id": "1b310b97-6efb-402f-a6ab-fd38a38ed7ed",
   "metadata": {},
   "outputs": [
    {
     "name": "stdout",
     "output_type": "stream",
     "text": [
      "Max is eating\n",
      "Woof!\n"
     ]
    }
   ],
   "source": [
    "class Animal:\n",
    "    def __init__(self, name):\n",
    "        self.name = name\n",
    "    \n",
    "    def eat(self):\n",
    "        print(f\"{self.name} is eating\")\n",
    "\n",
    "class Dog(Animal):\n",
    "    def __init__(self, name, breed):\n",
    "        super().__init__(name)\n",
    "        self.breed = breed\n",
    "    \n",
    "    def bark(self):\n",
    "        print(\"Woof!\")\n",
    "\n",
    "dog = Dog(\"Max\", \"Labrador\")\n",
    "dog.eat()\n",
    "dog.bark()"
   ]
  },
  {
   "cell_type": "markdown",
   "id": "58c256cb-0464-4ab0-b64c-b104b0eb4e0d",
   "metadata": {},
   "source": [
    "In above example, the Dog class inherits from the Animal class. The Dog class has its own method bark, and it also inherits the eat method from the Animal class.\n",
    "\n",
    "2] Multiple Inheritance:\n",
    "Multiple inheritance is when a child class inherits from multiple parent classes.\n",
    "Example:"
   ]
  },
  {
   "cell_type": "code",
   "execution_count": 7,
   "id": "aa88d5e0-fb73-479e-b031-bc4f27f24c82",
   "metadata": {},
   "outputs": [
    {
     "name": "stdout",
     "output_type": "stream",
     "text": [
      "Ashish\n",
      "123\n",
      "Sales\n",
      "Ashish is managing\n"
     ]
    }
   ],
   "source": [
    "class Employee:\n",
    "    def __init__(self, name, emp_id):\n",
    "        self.name = name\n",
    "        self.emp_id = emp_id\n",
    "\n",
    "class Manager:\n",
    "    def __init__(self, name, department):\n",
    "        self.name = name\n",
    "        self.department = department\n",
    "    \n",
    "    def manage(self):\n",
    "        print(f\"{self.name} is managing\")\n",
    "\n",
    "class ManagerEmployee(Employee, Manager):\n",
    "    def __init__(self, name, emp_id, department):\n",
    "        Employee.__init__(self, name, emp_id)\n",
    "        Manager.__init__(self, name, department)\n",
    "\n",
    "manager_employee = ManagerEmployee(\"Ashish\", 123, \"Sales\")\n",
    "print(manager_employee.name)\n",
    "print(manager_employee.emp_id)\n",
    "print(manager_employee.department)\n",
    "manager_employee.manage()"
   ]
  },
  {
   "cell_type": "markdown",
   "id": "21805c4b-ec0e-4657-b8e7-5f61a564adf6",
   "metadata": {},
   "source": [
    "In above example, the ManagerEmployee class inherits from both the Employee and Manager classes. It has access to all the attributes and methods from both parent classes.\n",
    "\n",
    "3] Multi-level Inheritance:\n",
    "Multi-level inheritance is when a child class inherits from a parent class, which in turn inherits from another parent class.\n",
    "Example:"
   ]
  },
  {
   "cell_type": "code",
   "execution_count": 8,
   "id": "2c74886a-ea2b-45a1-940a-3e09030ff883",
   "metadata": {},
   "outputs": [
    {
     "name": "stdout",
     "output_type": "stream",
     "text": [
      "Max is eating\n",
      "Woof!\n"
     ]
    }
   ],
   "source": [
    "class Animal:\n",
    "    def __init__(self, name):\n",
    "        self.name = name\n",
    "    \n",
    "    def eat(self):\n",
    "        print(f\"{self.name} is eating\")\n",
    "\n",
    "class Dog(Animal):\n",
    "    def __init__(self, name, breed):\n",
    "        super().__init__(name)\n",
    "        self.breed = breed\n",
    "    \n",
    "    def bark(self):\n",
    "        print(\"Woof!\")\n",
    "\n",
    "class Labrador(Dog):\n",
    "    def __init__(self, name):\n",
    "        super().__init__(name, \"Labrador\")\n",
    "\n",
    "labrador = Labrador(\"Max\")\n",
    "labrador.eat()\n",
    "labrador.bark()"
   ]
  },
  {
   "cell_type": "markdown",
   "id": "63045d38-d84b-49e4-b225-f28392250e93",
   "metadata": {},
   "source": [
    "In above example, the Labrador class inherits from the Dog class, which in turn inherits from the Animal class. The Labrador class has access to all the attributes and methods from both the Dog and Animal classes.\n",
    "\n",
    "4] Hierarchical Inheritance:\n",
    "Hierarchical inheritance is when multiple child classes inherit from a single parent class.\n",
    "Example:"
   ]
  },
  {
   "cell_type": "code",
   "execution_count": 9,
   "id": "343f9aca-37a0-4307-90a0-2333147b8b6d",
   "metadata": {},
   "outputs": [
    {
     "name": "stdout",
     "output_type": "stream",
     "text": [
      "Max is eating\n",
      "Woof!\n",
      "Kitty is eating\n",
      "Meow!\n"
     ]
    }
   ],
   "source": [
    "class Animal:\n",
    "    def __init__(self, name):\n",
    "        self.name = name\n",
    "    \n",
    "    def eat(self):\n",
    "        print(f\"{self.name} is eating\")\n",
    "\n",
    "class Dog(Animal):\n",
    "    def __init__(self, name, breed):\n",
    "        super().__init__(name)\n",
    "        self.breed = breed\n",
    "    \n",
    "    def bark(self):\n",
    "        print(\"Woof!\")\n",
    "\n",
    "class Cat(Animal):\n",
    "    def __init__(self, name):\n",
    "        super().__init__(name)\n",
    "    \n",
    "    def meow(self):\n",
    "        print(\"Meow!\")\n",
    "\n",
    "dog = Dog(\"Max\", \"Labrador\")\n",
    "cat = Cat(\"Kitty\")\n",
    "\n",
    "dog.eat()\n",
    "dog.bark()\n",
    "\n",
    "cat.eat()\n",
    "cat.meow()"
   ]
  },
  {
   "cell_type": "markdown",
   "id": "d681ecdf-121b-4eb7-8a2c-b163a5875bcc",
   "metadata": {},
   "source": [
    "In above example, both the Dog and Cat classes inherit from the Animal class. They both have access to the eat method from the Animal class, but they also have their own methods (bark and meow, respectively) that are specific to their own class. This is an example of hierarchical inheritance because multiple child classes (Dog and Cat) inherit from a single parent class (Animal)."
   ]
  }
 ],
 "metadata": {
  "kernelspec": {
   "display_name": "Python 3 (ipykernel)",
   "language": "python",
   "name": "python3"
  },
  "language_info": {
   "codemirror_mode": {
    "name": "ipython",
    "version": 3
   },
   "file_extension": ".py",
   "mimetype": "text/x-python",
   "name": "python",
   "nbconvert_exporter": "python",
   "pygments_lexer": "ipython3",
   "version": "3.10.8"
  }
 },
 "nbformat": 4,
 "nbformat_minor": 5
}
